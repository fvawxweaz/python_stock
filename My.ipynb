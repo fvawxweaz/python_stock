{
 "cells": [
  {
   "cell_type": "code",
   "execution_count": 2,
   "metadata": {},
   "outputs": [
    {
     "data": {
      "application/vnd.jupyter.widget-view+json": {
       "model_id": "098924e230304a0180f920111bc04195",
       "version_major": 2,
       "version_minor": 0
      },
      "text/plain": [
       "VBox(children=(Label(value='price (from 2017-11-01 to 2018-07-02)'), HBox(children=(DatePicker(value=datetime.…"
      ]
     },
     "metadata": {},
     "output_type": "display_data"
    },
    {
     "name": "stdout",
     "output_type": "stream",
     "text": [
      "start crawl price from  2018-07-02 to 2018-07-05\n"
     ]
    },
    {
     "data": {
      "application/vnd.jupyter.widget-view+json": {
       "model_id": "8340da34968f4f6fafe6a3c0a336bcfe",
       "version_major": 2,
       "version_minor": 0
      },
      "text/plain": [
       "HBox(children=(IntProgress(value=0, max=4), HTML(value='')))"
      ]
     },
     "metadata": {},
     "output_type": "display_data"
    },
    {
     "name": "stdout",
     "output_type": "stream",
     "text": [
      "crawling 2018-07-02\n",
      "success\n",
      "crawling 2018-07-03\n",
      "success\n",
      "crawling 2018-07-04\n",
      "success\n",
      "crawling 2018-07-05\n",
      "success\n",
      "\n"
     ]
    }
   ],
   "source": [
    "from finlab.crawler import (\n",
    "    widget, \n",
    "    \n",
    "    crawl_price, \n",
    "    crawl_monthly_report, \n",
    "    crawl_finance_statement_by_date,\n",
    "    \n",
    "    date_range, month_range, season_range\n",
    ")\n",
    "\n",
    "import sqlite3\n",
    "import os\n",
    "conn = sqlite3.connect(os.path.join('data', \"data2018.db\"))\n",
    "\n",
    "widget(conn, 'price', crawl_price, date_range)\n",
    "# widget(conn, 'monthly_revenue', crawl_monthly_report, month_range)\n",
    "# widget(conn, 'finance_statement', crawl_finance_statement_by_date, season_range)"
   ]
  },
  {
   "cell_type": "code",
   "execution_count": 18,
   "metadata": {},
   "outputs": [
    {
     "name": "stdout",
     "output_type": "stream",
     "text": [
      "資料最後日期: 20180629\n",
      "1201 -3 24.1 -0.086 -0.113\n",
      "1310 -1 23.05 -0.209 -0.244\n",
      "1402 -1 28.9 -0.091 -0.108\n",
      "1477 -3 137.0 -0.414 -0.636\n",
      "1605 -3 20.7 -0.524 -0.583\n",
      "1608 -1 11.5 -0.021 -0.022\n",
      "1609 -1 13.8 -0.069 -0.075\n",
      "1611 -5 11.9 -0.001 -0.024\n",
      "1711 -1 18.6 -0.08 -0.095\n",
      "1722 -2 41.85 -0.198 -0.21\n",
      "1808 -1 54.4 -0.621 -0.656\n",
      "1809 -3 14.2 -0.106 -0.17\n",
      "2332 -1 13.9 -0.232 -0.257\n",
      "2337 -1 43.4 -0.492 -0.536\n",
      "2347 -1 46.0 -0.274 -0.332\n",
      "2349 -2 14.65 -0.663 -0.666\n",
      "2356 -1 23.95 -0.139 -0.139\n",
      "2376 -3 67.4 -1.166 -1.266\n",
      "2377 -4 94.2 -2.582 -2.739\n",
      "2408 -1 83.2 -1.355 -1.377\n",
      "2425 -2 29.65 -0.35 -0.389\n",
      "2454 -1 300.0 -2.087 -2.425\n",
      "2492 -3 417.0 -11.022 -13.537\n",
      "2504 -1 9.38 -0.018 -0.02\n",
      "2535 -2 23.3 -0.357 -0.377\n",
      "2542 -1 45.25 -0.236 -0.267\n",
      "2601 -2 12.55 -0.139 -0.154\n",
      "2801 -1 17.7 -0.049 -0.064\n",
      "2845 -1 10.1 -0.015 -0.016\n",
      "2856 -3 10.75 -0.039 -0.044\n",
      "2880 -5 17.75 -0.049 -0.052\n",
      "2882 -1 53.8 -0.274 -0.303\n",
      "2883 -5 11.15 -0.04 -0.059\n",
      "2903 -3 19.55 -0.022 -0.045\n",
      "2923 -2 19.65 0.151 0.061\n",
      "3034 -1 137.5 -1.227 -1.408\n",
      "3090 -3 91.8 -1.398 -1.563\n",
      "3189 -1 52.3 -0.654 -0.71\n",
      "3702 -1 43.2 -0.168 -0.168\n",
      "4956 -1 23.25 -0.248 -0.257\n",
      "4958 -3 67.4 -0.538 -0.545\n",
      "4989 is NaN\n",
      "5469 -3 30.05 -0.547 -0.559\n",
      "5871 -1 100.0 -0.945 -1.015\n",
      "5880 -5 17.85 -0.059 -0.062\n",
      "6191 -3 15.35 -0.279 -0.299\n",
      "6196 -1 72.2 -0.99 -1.099\n",
      "6451 -3 154.5 -2.017 -2.048\n",
      "9934 -5 17.7 0.005 -0.01\n",
      "9945 -1 35.2 -0.156 -0.187\n"
     ]
    }
   ],
   "source": [
    "import pandas as pd\n",
    "import sqlite3\n",
    "import os\n",
    "from talib import abstract\n",
    "import math\n",
    "\n",
    "def filter_S(df):\n",
    "    dfs = df#.loc['2018-01-02':]\n",
    "    bband = abstract.BBANDS(dfs,timeperiod=20,nbdevup=2.1, nbdevdn=2.1, matype=0)\n",
    "    macd = abstract.MACD(dfs,fastperiod=12, slowperiod=26, signalperiod=9)\n",
    "    ma50 = abstract.SMA(dfs,50)\n",
    "    ma120 = abstract.SMA(dfs,120)\n",
    "    k = 0\n",
    "\n",
    "    #判斷指標值是否為NaN，否才進行篩選\n",
    "    if math.isnan(bband['lowerband'].iloc[-1]):\n",
    "        print(dfs['stock_id'][-1],'is NaN')\n",
    "\n",
    "    else:\n",
    "        for i in range(2,7):\n",
    "            #判斷最低價碰觸 BBANDS下緣\n",
    "            if dfs['low'].iloc[-i] <= round(bband['lowerband'].iloc[-i],1) and dfs['close'].iloc[-i] > bband['lowerband'].iloc[-i] and k == 0 and ma50[-1] > ma120[-1]:\n",
    "                for j in range(-i+1,0):\n",
    "                    #判斷 MACD值大於前一天，收斂反轉\n",
    "                    if macd['macdhist'].iloc[j-1] < macd['macdhist'].iloc[j] and dfs['volume'][j] > 500000 and dfs['close'].iloc[j] > dfs['low'].iloc[-i]:\n",
    "                        choice = dfs['stock_id'][-1]\n",
    "                        k+=1\n",
    "                        print(choice,j,dfs['close'][-1],round(macd['macdhist'].iloc[j],3),round(macd['macdhist'].iloc[j-1],3))\n",
    "                        break\n",
    "\n",
    "            elif k>0:\n",
    "                break\n",
    "\n",
    "# connect to sql\n",
    "# read data from sql\n",
    "conn = sqlite3.connect(os.path.join('data', \"data2018.db\"))\n",
    "df2 = pd.read_sql('select stock_id, date from price ' , conn, parse_dates=['date'])\n",
    "df3 = df2['stock_id'].drop_duplicates().values.tolist()\n",
    "df4 = ['3537', '0051','0052','0054','0057','0058','0059','0061','0050','00643K']\n",
    "print('資料最後日期:',df2['date'].iloc[-1].strftime('%Y%m%d'))\n",
    "\n",
    "for j in df3:\n",
    "    if len(j) < 5:\n",
    "        df = pd.read_sql('select stock_id, date, 開盤價, 收盤價, 最高價, 最低價, 成交股數 from price where stock_id=\"'+ j +'\"', conn,\n",
    "            index_col=['date'], parse_dates=['date'])\n",
    "        # rename the columns of dataframe\n",
    "        df.rename(columns={'收盤價':'close', '開盤價':'open', '最高價':'high', '最低價':'low', '成交股數':'volume'}, inplace=True)\n",
    "        filter_S(df)\n",
    "\n",
    "    "
   ]
  },
  {
   "cell_type": "code",
   "execution_count": 24,
   "metadata": {},
   "outputs": [
    {
     "name": "stdout",
     "output_type": "stream",
     "text": [
      "0050            stock_id   open  close   high   low    volume\n",
      "date                                                    \n",
      "2018-06-25     0050  80.85  80.90  81.05  80.7   7993181\n",
      "2018-06-26     0050  80.70  80.70  80.70  80.0  16434141\n",
      "2018-06-27     0050  80.75  80.40  80.90  80.3   8308049\n",
      "2018-06-28     0050  80.05  80.05  80.40  79.8  12064020\n",
      "2018-06-29     0050  80.30  81.45  81.55  80.2   6584213\n",
      "3537 Empty DataFrame\n",
      "Columns: [stock_id, open, close, high, low, volume]\n",
      "Index: []\n"
     ]
    },
    {
     "data": {
      "text/plain": [
       "51.1"
      ]
     },
     "execution_count": 24,
     "metadata": {},
     "output_type": "execute_result"
    }
   ],
   "source": [
    "# df2 = pd.read_sql('select distinct stock_id from price ' , conn)\n",
    "df2 = pd.read_sql('select stock_id, date from price ' , conn, parse_dates=['date'])\n",
    "# date_end = df2['date'].iloc[-1].strftime('%Y%m%d')\n",
    "# date_end\n",
    "# df3 = df2.set_index(['date'])[date_end]['stock_id'].values.tolist()\n",
    "# df3\n",
    "df4 = ['0050', '3537']\n",
    "\n",
    "for name in df4:\n",
    "    df5 = pd.read_sql('select stock_id, date, 開盤價, 收盤價, 最高價, 最低價, 成交股數 from price where stock_id=\"'+name+'\"', conn,\n",
    "                    index_col=['date'], parse_dates=['date'])\n",
    "#     print(name)\n",
    "    # rename the columns of dataframe\n",
    "    df5.rename(columns={'收盤價':'close', '開盤價':'open', '最高價':'high', '最低價':'low', '成交股數':'volume'}, inplace=True)\n",
    "    print(name,df5.tail())\n",
    "bband = abstract.BBANDS(df,timeperiod=20,nbdevup=2.1, nbdevdn=2.1, matype=0)\n",
    "round(bband['lowerband'].iloc[-1],1)"
   ]
  },
  {
   "cell_type": "code",
   "execution_count": 5,
   "metadata": {},
   "outputs": [
    {
     "name": "stdout",
     "output_type": "stream",
     "text": [
      "62.4\n",
      "bbands 49.14339631650337\n",
      "62.7\n",
      "bbands 47.66007147942004\n",
      "0.6122833488601183 0.8852135557941498\n"
     ]
    }
   ],
   "source": [
    "import pandas as pd\n",
    "import sqlite3\n",
    "import os\n",
    "from talib import abstract\n",
    "import math\n",
    "\n",
    "def filter_S(df):\n",
    "    dfs = df#.loc['2018-01-02':]\n",
    "    bband = abstract.BBANDS(dfs,timeperiod=20,nbdevup=2.1, nbdevdn=2.1, matype=0)\n",
    "    macd = abstract.MACD(dfs,fastperiod=12, slowperiod=26, signalperiod=9)\n",
    "    ma50 = abstract.SMA(dfs,50)\n",
    "    ma120 = abstract.SMA(dfs,120)\n",
    "    k = 0\n",
    "\n",
    "    #判斷指標值是否為NaN，否才進行篩選\n",
    "    if math.isnan(bband['lowerband'].iloc[-1]):\n",
    "        print(dfs['stock_id'][-1],'is NaN')\n",
    "\n",
    "    else:\n",
    "        for i in range(2,7):\n",
    "            #判斷最低價碰觸 BBANDS下緣\n",
    "            if dfs['low'].iloc[-i] <= round(bband['lowerband'].iloc[-i],1) and dfs['close'].iloc[-i] > bband['lowerband'].iloc[-i] and k == 0 and ma50[-1] > ma120[-1]:\n",
    "                for j in range(-i+1,0):\n",
    "                    #判斷 MACD值大於前一天，收斂反轉\n",
    "                    if macd['macdhist'].iloc[j-1] < macd['macdhist'].iloc[j] and dfs['volume'][j] > 500000 and dfs['close'].iloc[j] > dfs['low'].iloc[-i]:\n",
    "                        choice = dfs['stock_id'][-1]\n",
    "                        k+=1\n",
    "                        print(choice,j,dfs['close'][-1],round(macd['macdhist'].iloc[j],3),round(macd['macdhist'].iloc[j-1],3))\n",
    "                        break\n",
    "\n",
    "            elif k>0:\n",
    "                break\n",
    "\n",
    "# connect to sql\n",
    "# read data from sql\n",
    "conn = sqlite3.connect(os.path.join('data', \"data2018.db\"))\n",
    "df2 = pd.read_sql('select stock_id, date from price ' , conn, parse_dates=['date'])\n",
    "df3 = df2['stock_id'].drop_duplicates().values.tolist()\n",
    "df4 = ['3537', '0051','0052','0054','0057','0058','0059','0061','0050','00643K']\n",
    "print('資料最後日期:',df2['date'].iloc[-1].strftime('%Y%m%d'))\n",
    "\n",
    "for j in df3:\n",
    "    if len(j) < 5:\n",
    "        df = pd.read_sql('select stock_id, date, 開盤價, 收盤價, 最高價, 最低價, 成交股數 from price where stock_id=\"'+ j +'\"', conn,\n",
    "            index_col=['date'], parse_dates=['date'])\n",
    "        # rename the columns of dataframe\n",
    "        df.rename(columns={'收盤價':'close', '開盤價':'open', '最高價':'high', '最低價':'low', '成交股數':'volume'}, inplace=True)\n",
    "        filter_S(df)\n",
    "dfs = df#.loc['2018-01-02':]\n",
    "    bband = abstract.BBANDS(dfs,timeperiod=20,nbdevup=2.1, nbdevdn=2.1, matype=0)\n",
    "    macd = abstract.MACD(dfs,fastperiod=12, slowperiod=26, signalperiod=9)\n",
    "    ma50 = abstract.SMA(dfs,50)\n",
    "    ma120 = abstract.SMA(dfs,120)\n",
    "    k = 0\n",
    "\n",
    "    #判斷指標值是否為NaN，否才進行篩選\n",
    "    if math.isnan(bband['lowerband'].iloc[-1]):\n",
    "        print(dfs['stock_id'][-1],'is NaN')\n",
    "\n",
    "    else:\n",
    "        for i in range(2,7):\n",
    "            #判斷最低價碰觸 BBANDS下緣\n",
    "            if dfs['low'].iloc[-i] <= round(bband['lowerband'].iloc[-i],1) and dfs['close'].iloc[-i] > bband['lowerband'].iloc[-i] and k == 0 and ma50[-1] > ma120[-1]:\n",
    "                for j in range(-i+1,0):\n",
    "                    #判斷 MACD值大於前一天，收斂反轉\n",
    "                    if macd['macdhist'].iloc[j-1] < macd['macdhist'].iloc[j] and dfs['volume'][j] > 500000 and dfs['close'].iloc[j] > dfs['low'].iloc[-i]:\n",
    "                        choice = dfs['stock_id'][-1]\n",
    "                        k+=1\n",
    "                        print(choice,j,dfs['close'][-1],round(macd['macdhist'].iloc[j],3),round(macd['macdhist'].iloc[j-1],3))\n",
    "                        break\n",
    "\n",
    "            elif k>0:\n",
    "                break"
   ]
  }
 ],
 "metadata": {
  "kernelspec": {
   "display_name": "Python 3",
   "language": "python",
   "name": "python3"
  },
  "language_info": {
   "codemirror_mode": {
    "name": "ipython",
    "version": 3
   },
   "file_extension": ".py",
   "mimetype": "text/x-python",
   "name": "python",
   "nbconvert_exporter": "python",
   "pygments_lexer": "ipython3",
   "version": "3.6.5"
  }
 },
 "nbformat": 4,
 "nbformat_minor": 2
}
